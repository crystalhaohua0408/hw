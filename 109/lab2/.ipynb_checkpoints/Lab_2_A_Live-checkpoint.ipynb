{
 "metadata": {
  "name": ""
 },
 "nbformat": 3,
 "nbformat_minor": 0,
 "worksheets": [
  {
   "cells": [
    {
     "cell_type": "code",
     "collapsed": false,
     "input": [
      "import cs109style\n",
      "cs109style.customize_mpl()\n",
      "cs109style.customize_css()\n",
      "\n",
      "# special IPython command to prepare the notebook for matplotlib\n",
      "%matplotlib inline \n",
      "\n",
      "from collections import defaultdict\n",
      "\n",
      "import pandas as pd\n",
      "import matplotlib.pyplot as plt\n",
      "import requests\n",
      "from pattern import web\n",
      "\n"
     ],
     "language": "python",
     "metadata": {},
     "outputs": [
      {
       "output_type": "stream",
       "stream": "stdout",
       "text": [
        "Setting custom matplotlib visual style\n",
        "Setting custom CSS for the IPython Notebook\n"
       ]
      }
     ],
     "prompt_number": 8
    },
    {
     "cell_type": "markdown",
     "metadata": {},
     "source": [
      "## Fetching population data from Wikipedia\n",
      "\n",
      "In this example we will fetch data about countries and their population from Wikipedia.\n",
      "\n",
      "http://en.wikipedia.org/wiki/List_of_countries_by_past_and_future_population has several tables for individual countries, subcontinents as well as different years. We will combine the data for all countries and all years in a single panda dataframe and visualize the change in population for different countries.\n",
      "\n",
      "###We will go through the following steps:\n",
      "* fetching html with embedded data\n",
      "* parsing html to extract the data\n",
      "* collecting the data in a panda dataframe\n",
      "* displaying the data\n",
      "\n",
      "To give you some starting points for your homework, we will also show the different sub-steps that can be taken to reach the presented solution."
     ]
    },
    {
     "cell_type": "markdown",
     "metadata": {},
     "source": [
      "## Fetching the Wikipedia site"
     ]
    },
    {
     "cell_type": "code",
     "collapsed": false,
     "input": [
      "url = 'http://en.wikipedia.org/wiki/List_of_countries_by_past_and_future_population'\n",
      "website_html = requests.get(url).text\n",
      "#print website_html"
     ],
     "language": "python",
     "metadata": {},
     "outputs": [],
     "prompt_number": 2
    },
    {
     "cell_type": "markdown",
     "metadata": {},
     "source": [
      "## Parsing html data"
     ]
    },
    {
     "cell_type": "code",
     "collapsed": false,
     "input": [
      "def get_population_html_tables(html):\n",
      "    \"\"\"Parse html and return html tables of wikipedia population data.\"\"\"\n",
      "\n",
      "    dom = web.Element(html)\n",
      "\n",
      "    ### 0. step: look at html source!\n",
      "    \n",
      "    #### 1. step: get all tables\n",
      "    #tbls = dom('table')\n",
      "    #### 2. step: get all tables we care about\n",
      "    tbls = dom.by_class('wikitable sortable')\n",
      "    return tbls\n",
      "\n",
      "tables = get_population_html_tables(website_html)\n",
      "print \"table length: %d\" %len(tables)\n",
      "for t in tables:\n",
      "    print t.attributes\n"
     ],
     "language": "python",
     "metadata": {},
     "outputs": [
      {
       "output_type": "stream",
       "stream": "stdout",
       "text": [
        "table length: 6\n",
        "{u'style': u'text-align: right', u'border': u'1', u'class': u'wikitable sortable'}\n",
        "{u'style': u'text-align: right', u'border': u'1', u'class': u'wikitable sortable'}\n",
        "{u'style': u'text-align: right', u'border': u'1', u'class': u'wikitable sortable'}\n",
        "{u'style': u'text-align: right', u'border': u'1', u'class': u'wikitable sortable'}\n",
        "{u'style': u'text-align: right', u'border': u'1', u'class': u'wikitable sortable'}\n",
        "{u'style': u'text-align: right', u'border': u'1', u'class': u'wikitable sortable'}\n"
       ]
      }
     ],
     "prompt_number": 7
    },
    {
     "cell_type": "code",
     "collapsed": false,
     "input": [
      "def table_type(tbl):\n",
      "    ### Extract the table type\n",
      "    return tbl('th')[1].content\n",
      "    \n",
      "# group the tables by type\n",
      "tables_by_type = defaultdict(list)  # defaultdicts have a default value that is inserted when a new key is accessed\n",
      "for tbl in tables:\n",
      "    tables_by_type[table_type(tbl)].append(tbl)\n",
      "\n",
      "print tables_by_type"
     ],
     "language": "python",
     "metadata": {},
     "outputs": [
      {
       "output_type": "stream",
       "stream": "stdout",
       "text": [
        "defaultdict(<type 'list'>, {u'Country or territory': [Element(tag='table'), Element(tag='table'), Element(tag='table')], u'(Sub)continent': [Element(tag='table'), Element(tag='table'), Element(tag='table')]})\n"
       ]
      }
     ],
     "prompt_number": 13
    },
    {
     "cell_type": "markdown",
     "metadata": {},
     "source": [
      "## Extracting data and filling it into a dictionary"
     ]
    },
    {
     "cell_type": "code",
     "collapsed": false,
     "input": [
      "def get_countries_population(tables):\n",
      "    \"\"\"Extract population data for countries from all tables and store it in dictionary.\"\"\"\n",
      "    \n",
      "    result = defaultdict(dict)\n",
      "\n",
      "    # 1. step: try to extract data for a single table\n",
      "    tbl = tables[0]\n",
      "    headers = tbl('tr')\n",
      "    first_headers = headers[0]\n",
      "    th_s = first_headers('th')\n",
      "    \n",
      "    years = [int(val.content) for val in th_s if val.content.isnumeric()]\n",
      "    year_indices = [idx for idx,val in enumerate(th_s) if val.content.isnumeric()]\n",
      "    print years, year_indices\n",
      "    # 2. step: iterate over all tables, extract headings and actual data and combine data into single dict\n",
      "    rows = tbl('tr')[1:]\n",
      "    for row in rows:\n",
      "        tds = row('td')\n",
      "        country_name = tds[1]('a')[0].content\n",
      "        pop_by_year = [int(tds[colidx].content.replace(',','')) for colidx in year_indices]\n",
      "        subdict = dict(zip(years,pop_by_year))\n",
      "        result[country_name].update(subdict)\n",
      "    return result\n",
      "\n",
      "\n",
      "result = get_countries_population(tables_by_type['Country or territory'])\n",
      "print result"
     ],
     "language": "python",
     "metadata": {},
     "outputs": [
      {
       "output_type": "stream",
       "stream": "stdout",
       "text": [
        "[1950, 1955, 1960, 1965, 1970, 1975, 1980] [2, 3, 5, 7, 9, 11, 13]\n",
        "defaultdict(<type 'dict'>, {u'Canada': {1970: 21750, 1955: 16050, 1975: 23209, 1960: 18267, 1980: 24593, 1965: 20071, 1950: 14011}, u'Saint Martin': {1970: 5, 1955: 4, 1975: 6, 1960: 4, 1980: 8, 1965: 5, 1950: 3}, u'Guinea-Bissau': {1970: 620, 1955: 592, 1975: 681, 1960: 617, 1980: 789, 1965: 604, 1950: 573}, u'Lithuania': {1970: 3138, 1955: 2614, 1975: 3305, 1960: 2765, 1980: 3435, 1965: 2959, 1950: 2553}, u'Cambodia': {1970: 7394, 1955: 5049, 1975: 7500, 1960: 5761, 1980: 6889, 1965: 6602, 1950: 4471}, u'Saint Helena, Ascension and Tristan da Cunha': {1970: 6, 1955: 5, 1975: 6, 1960: 5, 1980: 6, 1965: 5, 1950: 5}, u'Switzerland': {1970: 6267, 1955: 4980, 1975: 6404, 1960: 5362, 1980: 6385, 1965: 5943, 1950: 4694}, u'Ethiopia': {1970: 29469, 1955: 21990, 1975: 32976, 1960: 24169, 1980: 36036, 1965: 26740, 1950: 20175}, u'Aruba': {1970: 59, 1955: 54, 1975: 59, 1960: 57, 1980: 60, 1965: 59, 1950: 50}, u'Swaziland': {1970: 455, 1955: 311, 1975: 521, 1960: 352, 1980: 611, 1965: 399, 1950: 277}, u'Argentina': {1970: 23962, 1955: 18928, 1975: 26082, 1960: 20616, 1980: 28370, 1965: 22283, 1950: 17150}, u'Bolivia': {1970: 4346, 1955: 3074, 1975: 4914, 1960: 3434, 1980: 5441, 1965: 3853, 1950: 2766}, u'Cameroon': {1970: 6727, 1955: 5211, 1975: 7522, 1960: 5609, 1980: 8762, 1965: 6104, 1950: 4888}, u'Burkina Faso': {1970: 5304, 1955: 4614, 1975: 5673, 1960: 4866, 1980: 6318, 1965: 5032, 1950: 4376}, u'Turkmenistan': {1970: 2181, 1955: 1348, 1975: 2524, 1960: 1585, 1980: 2875, 1965: 1882, 1950: 1204}, u'Ghana': {1970: 8789, 1955: 6049, 1975: 10117, 1960: 6958, 1980: 11011, 1965: 8010, 1950: 5297}, u'Saudi Arabia': {1970: 6109, 1955: 4243, 1975: 7208, 1960: 4718, 1980: 10022, 1965: 5327, 1950: 3860}, u'Japan': {1970: 104345, 1955: 89815, 1975: 111573, 1960: 94092, 1980: 116807, 1965: 98883, 1950: 83805}, u'Cape Verde': {1970: 269, 1955: 169, 1975: 280, 1960: 197, 1980: 296, 1965: 232, 1950: 146}, u'Northern Mariana Islands': {1970: 12, 1955: 7, 1975: 15, 1960: 9, 1980: 17, 1965: 10, 1950: 6}, u'Slovenia': {1970: 1676, 1955: 1517, 1975: 1722, 1960: 1558, 1980: 1833, 1965: 1620, 1950: 1468}, u'Guatemala': {1970: 5264, 1955: 3487, 1975: 5910, 1960: 4100, 1980: 6650, 1965: 4746, 1950: 2969}, u'Bosnia and Herzegovina': {1970: 3703, 1955: 2974, 1975: 3980, 1960: 3240, 1980: 4092, 1965: 3493, 1950: 2662}, u'Kuwait': {1970: 748, 1955: 187, 1975: 1007, 1960: 292, 1980: 1370, 1965: 476, 1950: 145}, u'Jordan': {1970: 1503, 1955: 687, 1975: 1803, 1960: 849, 1980: 2163, 1965: 1061, 1950: 561}, u'Dominica': {1970: 70, 1955: 57, 1975: 74, 1960: 60, 1980: 74, 1965: 64, 1950: 51}, u'Liberia': {1970: 1397, 1955: 928, 1975: 1617, 1960: 1055, 1980: 1857, 1965: 1209, 1950: 824}, u'Congo (Kinshasa)': {1970: 21781, 1955: 14953, 1975: 25032, 1960: 16610, 1980: 29011, 1965: 18856, 1950: 13569}, u'Jamaica': {1970: 1944, 1955: 1489, 1975: 2105, 1960: 1632, 1980: 2229, 1965: 1777, 1950: 1385}, u'Oman': {1970: 783, 1955: 540, 1975: 920, 1960: 601, 1980: 1185, 1965: 682, 1950: 489}, u'Tanzania': {1970: 13807, 1955: 8971, 1975: 16148, 1960: 10260, 1980: 18665, 1965: 11870, 1950: 7935}, u'United States Virgin Islands': {1970: 63, 1955: 28, 1975: 94, 1960: 33, 1980: 100, 1965: 44, 1950: 27}, u'Greenland': {1970: 46, 1955: 27, 1975: 50, 1960: 32, 1980: 50, 1965: 39, 1950: 22}, u'Gabon': {1970: 515, 1955: 429, 1975: 647, 1960: 446, 1980: 714, 1965: 474, 1950: 416}, u'Saint Pierre and Miquelon': {1970: 5, 1955: 5, 1975: 6, 1960: 5, 1980: 6, 1965: 5, 1950: 5}, u'Monaco': {1970: 24, 1955: 18, 1975: 25, 1960: 21, 1980: 27, 1965: 22, 1950: 18}, u'Wallis and Futuna': {1970: 9, 1955: 7, 1975: 9, 1960: 8, 1980: 11, 1965: 8, 1950: 7}, u'New Zealand': {1970: 2828, 1955: 2136, 1975: 3118, 1960: 2372, 1980: 3170, 1965: 2640, 1950: 1908}, u'Yemen': {1970: 7098, 1955: 5265, 1975: 7934, 1960: 5872, 1980: 9133, 1965: 6510, 1950: 4777}, u'Jersey': {1970: 69, 1955: 60, 1975: 72, 1960: 63, 1980: 76, 1965: 66, 1950: 57}, u'Andorra': {1970: 20, 1955: 6, 1975: 27, 1960: 8, 1980: 34, 1965: 14, 1950: 6}, u'Albania': {1970: 2157, 1955: 1392, 1975: 2401, 1960: 1623, 1980: 2671, 1965: 1884, 1950: 1227}, u'Samoa': {1970: 142, 1955: 94, 1975: 151, 1960: 110, 1980: 159, 1965: 127, 1950: 82}, u'Macau': {1970: 261, 1955: 193, 1975: 254, 1960: 186, 1980: 256, 1965: 224, 1950: 205}, u'United Arab Emirates': {1970: 249, 1955: 83, 1975: 523, 1960: 103, 1980: 1000, 1965: 144, 1950: 72}, u'Guam': {1970: 86, 1955: 69, 1975: 102, 1960: 67, 1980: 107, 1965: 74, 1950: 60}, u'India': {1970: 553889, 1955: 404268, 1975: 618923, 1960: 445393, 1980: 684888, 1965: 494964, 1950: 369880}, u'Azerbaijan': {1970: 5169, 1955: 3314, 1975: 5696, 1960: 3882, 1980: 6198, 1965: 4567, 1950: 2885}, u'Lesotho': {1970: 1067, 1955: 786, 1975: 1195, 1960: 859, 1980: 1359, 1965: 952, 1950: 726}, u'Congo (Brazzaville)': {1970: 1272, 1955: 904, 1975: 1454, 1960: 1002, 1980: 1674, 1965: 1124, 1950: 826}, u'Saint Vincent and the Grenadines': {1970: 88, 1955: 75, 1975: 92, 1960: 81, 1980: 98, 1965: 85, 1950: 66}, u'Kenya': {1970: 11247, 1955: 7034, 1975: 13433, 1960: 8157, 1980: 16331, 1965: 9549, 1950: 6121}, u'South Korea': {1970: 32241, 1955: 21552, 1975: 35281, 1960: 24784, 1980: 38124, 1965: 28705, 1950: 20846}, u'Tajikistan': {1970: 2939, 1955: 1781, 1975: 3449, 1960: 2081, 1980: 3966, 1965: 2511, 1950: 1530}, u'Turkey': {1970: 35758, 1955: 24145, 1975: 40530, 1960: 28217, 1980: 45048, 1965: 31951, 1950: 21122}, u'Afghanistan': {1970: 12431, 1955: 8891, 1975: 14132, 1960: 9829, 1980: 15044, 1965: 10998, 1950: 8150}, u'Bangladesh': {1970: 67331, 1955: 49588, 1975: 76153, 1960: 54593, 1980: 87937, 1965: 60284, 1950: 45646}, u'Mauritania': {1970: 1289, 1955: 1053, 1975: 1404, 1960: 1117, 1980: 1545, 1965: 1195, 1950: 1006}, u'Solomon Islands': {1970: 163, 1955: 114, 1975: 193, 1960: 126, 1980: 231, 1965: 143, 1950: 107}, u'Turks and Caicos Islands': {1970: 6, 1955: 5, 1975: 6, 1960: 6, 1980: 7, 1965: 6, 1950: 5}, u'Saint Lucia': {1970: 103, 1955: 86, 1975: 112, 1960: 88, 1980: 122, 1965: 94, 1950: 79}, u'Gaza Strip': {1970: 343, 1955: 266, 1975: 395, 1960: 308, 1980: 456, 1965: 350, 1950: 245}, u'San Marino': {1970: 19, 1955: 14, 1975: 20, 1960: 15, 1980: 21, 1965: 17, 1950: 13}, u'Kyrgyzstan': {1970: 2964, 1955: 1901, 1975: 3301, 1960: 2171, 1980: 3623, 1965: 2573, 1950: 1739}, u'French Polynesia': {1970: 114, 1955: 72, 1975: 133, 1960: 81, 1980: 151, 1965: 95, 1950: 62}, u'France': {1970: 51918, 1955: 44218, 1975: 53955, 1960: 46584, 1980: 55110, 1965: 49802, 1950: 42518}, u'Bermuda': {1970: 53, 1955: 41, 1975: 54, 1960: 44, 1980: 55, 1965: 49, 1950: 39}, u'Slovakia': {1970: 4524, 1955: 3727, 1975: 4730, 1960: 3994, 1980: 4966, 1965: 4370, 1950: 3463}, u'Somalia': {1970: 3667, 1955: 2673, 1975: 4128, 1960: 2956, 1980: 5794, 1965: 3283, 1950: 2438}, u'Peru': {1970: 13193, 1955: 8672, 1975: 15161, 1960: 9931, 1980: 17295, 1965: 11467, 1950: 7633}, u'Laos': {1970: 2845, 1955: 2077, 1975: 3161, 1960: 2309, 1980: 3293, 1965: 2565, 1950: 1886}, u'Nauru': {1970: 7, 1955: 4, 1975: 7, 1960: 4, 1980: 8, 1965: 6, 1950: 3}, u'Seychelles': {1970: 54, 1955: 36, 1975: 60, 1960: 42, 1980: 64, 1965: 48, 1950: 33}, u'Norway': {1970: 3877, 1955: 3427, 1975: 4007, 1960: 3581, 1980: 4086, 1965: 3723, 1950: 3265}, u'Malawi': {1970: 4508, 1955: 3088, 1975: 5317, 1960: 3450, 1980: 6259, 1965: 3914, 1950: 2817}, u'Cook Islands': {1970: 21, 1955: 16, 1975: 19, 1960: 18, 1980: 18, 1965: 19, 1950: 15}, u'Benin': {1970: 2620, 1955: 1846, 1975: 2996, 1960: 2055, 1980: 3458, 1965: 2311, 1950: 1673}, u'Federated States of Micronesia': {1970: 57, 1955: 36, 1975: 66, 1960: 42, 1980: 77, 1965: 49, 1950: 31}, u'Western Sahara': {1970: 89, 1955: 16, 1975: 72, 1960: 28, 1980: 124, 1965: 50, 1950: 9}, u'Cuba': {1970: 8543, 1955: 6381, 1975: 9290, 1960: 7027, 1980: 9653, 1965: 7810, 1950: 5785}, u'Montenegro': {1970: 514, 1955: 432, 1975: 549, 1960: 461, 1980: 560, 1965: 491, 1950: 396}, u'Saint Kitts and Nevis': {1970: 46, 1955: 50, 1975: 45, 1960: 51, 1980: 44, 1965: 49, 1950: 44}, u'Togo': {1970: 1964, 1955: 1298, 1975: 2267, 1960: 1456, 1980: 2626, 1965: 1648, 1950: 1172}, u'China': {1970: 820403, 1955: 606730, 1975: 917899, 1960: 650661, 1980: 984736, 1965: 715546, 1950: 562580}, u'Armenia': {1970: 2520, 1955: 1565, 1975: 2834, 1960: 1869, 1980: 3115, 1965: 2206, 1950: 1355}, u'Timor-Leste': {1970: 598, 1955: 472, 1975: 677, 1960: 509, 1980: 557, 1965: 553, 1950: 436}, u'Dominican Republic': {1970: 4423, 1955: 2737, 1975: 5048, 1960: 3231, 1980: 5697, 1965: 3806, 1950: 2353}, u'Ukraine': {1970: 47236, 1955: 39368, 1975: 48973, 1960: 42644, 1980: 50047, 1965: 45235, 1950: 36775}, u'Bahrain': {1970: 220, 1955: 130, 1975: 259, 1960: 157, 1980: 348, 1965: 191, 1950: 115}, u'Tonga': {1970: 83, 1955: 54, 1975: 89, 1960: 64, 1980: 92, 1965: 74, 1950: 46}, u'Finland': {1970: 4606, 1955: 4235, 1975: 4711, 1960: 4430, 1980: 4780, 1965: 4564, 1950: 4009}, u'Libya': {1970: 1999, 1955: 1122, 1975: 2570, 1960: 1338, 1980: 3069, 1965: 1624, 1950: 961}, u'Cayman Islands': {1970: 10, 1955: 7, 1975: 14, 1960: 8, 1980: 17, 1965: 9, 1950: 6}, u'Central African Republic': {1970: 1839, 1955: 1348, 1975: 2058, 1960: 1467, 1980: 2349, 1965: 1628, 1950: 1260}, u'Mauritius': {1970: 830, 1955: 572, 1975: 885, 1960: 663, 1980: 964, 1965: 756, 1950: 481}, u'Liechtenstein': {1970: 21, 1955: 15, 1975: 23, 1960: 16, 1980: 25, 1965: 19, 1950: 14}, u'Australia': {1970: 12660, 1955: 9277, 1975: 13771, 1960: 10361, 1980: 14616, 1965: 11439, 1950: 8267}, u'British Virgin Islands': {1970: 10, 1955: 7, 1975: 11, 1960: 7, 1980: 11, 1965: 8, 1950: 6}, u'Mali': {1970: 5546, 1955: 4071, 1975: 6218, 1960: 4495, 1980: 6822, 1965: 4978, 1950: 3688}, u'Russia': {1970: 130245, 1955: 111125, 1975: 134293, 1960: 119632, 1980: 139039, 1965: 126541, 1950: 101937}, u'Bulgaria': {1970: 8490, 1955: 7499, 1975: 8721, 1960: 7867, 1980: 8844, 1965: 8201, 1950: 7251}, u'United States': {1970: 203984, 1955: 165069, 1975: 215465, 1960: 179979, 1980: 227225, 1965: 193526, 1950: 151868}, u'Romania': {1970: 20253, 1955: 17325, 1975: 21245, 1960: 18403, 1980: 22130, 1965: 19027, 1950: 16311}, u'Angola': {1970: 5606, 1955: 4423, 1975: 6050, 1960: 4797, 1980: 7206, 1965: 5135, 1950: 4118}, u'Chad': {1970: 3727, 1955: 2805, 1975: 4144, 1960: 3042, 1980: 4522, 1965: 3345, 1950: 2608}, u'South Africa': {1970: 22740, 1955: 15369, 1975: 25815, 1960: 17417, 1980: 29252, 1965: 19898, 1950: 13596}, u'Cyprus': {1970: 627, 1955: 533, 1975: 627, 1960: 579, 1980: 630, 1965: 600, 1950: 494}, u'Sweden': {1970: 8043, 1955: 7262, 1975: 8193, 1960: 7480, 1980: 8310, 1965: 7734, 1950: 7014}, u'Qatar': {1970: 113, 1955: 35, 1975: 165, 1960: 45, 1980: 229, 1965: 70, 1950: 25}, u'Malaysia': {1970: 10910, 1955: 7312, 1975: 12131, 1960: 8428, 1980: 13460, 1965: 9648, 1950: 6434}, u'Austria': {1970: 7467, 1955: 6947, 1975: 7579, 1960: 7047, 1980: 7549, 1965: 7271, 1950: 6935}, u'Vietnam': {1970: 42577, 1955: 27738, 1975: 48075, 1960: 31656, 1980: 53715, 1965: 37258, 1950: 25348}, u'Mozambique': {1970: 9304, 1955: 6782, 1975: 10433, 1960: 7472, 1980: 12103, 1965: 8301, 1950: 6250}, u'Uganda': {1970: 9743, 1955: 6317, 1975: 10952, 1960: 7262, 1980: 12415, 1965: 8389, 1950: 5522}, u'Hungary': {1970: 10337, 1955: 9825, 1975: 10532, 1960: 9984, 1980: 10711, 1965: 10153, 1950: 9338}, u'Niger': {1970: 4841, 1955: 3559, 1975: 5419, 1960: 3913, 1980: 6093, 1965: 4344, 1950: 3271}, u'Isle of Man': {1970: 53, 1955: 51, 1975: 59, 1960: 48, 1980: 64, 1965: 49, 1950: 55}, u'West Bank': {1970: 690, 1955: 788, 1975: 806, 1960: 805, 1980: 904, 1965: 861, 1950: 771}, u'Brazil': {1970: 95684, 1955: 61774, 1975: 108879, 1960: 71695, 1980: 123020, 1965: 83093, 1950: 53443}, u'Netherlands': {1970: 13043, 1955: 10758, 1975: 13665, 1960: 11494, 1980: 14155, 1965: 12301, 1950: 10121}, u'Faroe Islands': {1970: 39, 1955: 33, 1975: 41, 1960: 35, 1980: 43, 1965: 37, 1950: 32}, u'Guinea': {1970: 3643, 1955: 2787, 1975: 4019, 1960: 3026, 1980: 4447, 1965: 3314, 1950: 2586}, u'Panama': {1970: 1531, 1955: 1011, 1975: 1749, 1960: 1148, 1980: 1960, 1965: 1326, 1950: 893}, u'Costa Rica': {1970: 1736, 1955: 1032, 1975: 1992, 1960: 1248, 1980: 2299, 1965: 1488, 1950: 867}, u'Luxembourg': {1970: 339, 1955: 305, 1975: 359, 1960: 314, 1980: 364, 1965: 332, 1950: 296}, u'American Samoa': {1970: 27, 1955: 20, 1975: 30, 1960: 20, 1980: 32, 1965: 25, 1950: 19}, u'Bahamas': {1970: 170, 1955: 87, 1975: 189, 1960: 112, 1980: 210, 1965: 139, 1950: 70}, u'Gibraltar': {1970: 26, 1955: 24, 1975: 29, 1960: 24, 1980: 29, 1965: 25, 1950: 23}, u'Ivory Coast': {1970: 5579, 1955: 3164, 1975: 7031, 1960: 3576, 1980: 8593, 1965: 4356, 1950: 2860}, u'Pakistan': {1970: 67491, 1955: 45536, 1975: 76456, 1960: 51719, 1980: 85219, 1965: 59046, 1950: 40382}, u'Palau': {1970: 12, 1955: 8, 1975: 13, 1960: 9, 1980: 13, 1965: 11, 1950: 7}, u'Nigeria': {1970: 55590, 1955: 35955, 1975: 64428, 1960: 41550, 1980: 74829, 1965: 48068, 1950: 31797}, u'Ecuador': {1970: 5939, 1955: 3842, 1975: 6872, 1960: 4416, 1980: 7920, 1965: 5118, 1950: 3370}, u'Czech Republic': {1970: 9795, 1955: 9366, 1975: 10042, 1960: 9660, 1980: 10289, 1965: 9777, 1950: 8925}, u'Brunei': {1970: 128, 1955: 61, 1975: 156, 1960: 83, 1980: 185, 1965: 102, 1950: 45}, u'Belarus': {1970: 9027, 1955: 7781, 1975: 9360, 1960: 8168, 1980: 9644, 1965: 8591, 1950: 7722}, u'Iran': {1970: 28994, 1955: 18739, 1975: 33467, 1960: 21600, 1980: 39709, 1965: 25040, 1950: 16357}, u'Algeria': {1970: 13932, 1955: 9842, 1975: 16140, 1960: 10909, 1980: 18806, 1965: 11963, 1950: 8893}, u'El Salvador': {1970: 3604, 1955: 2221, 1975: 4073, 1960: 2582, 1980: 4570, 1965: 3018, 1950: 1940}, u'Tuvalu': {1970: 6, 1955: 5, 1975: 6, 1960: 5, 1980: 7, 1965: 6, 1950: 5}, u'Marshall Islands': {1970: 22, 1955: 13, 1975: 26, 1960: 15, 1980: 31, 1965: 18, 1950: 11}, u'Chile': {1970: 9369, 1955: 6743, 1975: 10252, 1960: 7585, 1980: 11094, 1965: 8510, 1950: 6091}, u'Puerto Rico': {1970: 2722, 1955: 2250, 1975: 2935, 1960: 2358, 1980: 3210, 1965: 2597, 1950: 2218}, u'Belgium': {1970: 9638, 1955: 8868, 1975: 9795, 1960: 9119, 1980: 9847, 1965: 9448, 1950: 8639}, u'Kiribati': {1970: 49, 1955: 37, 1975: 53, 1960: 41, 1980: 58, 1965: 45, 1950: 33}, u'Haiti': {1970: 4541, 1955: 3365, 1975: 4973, 1960: 3697, 1980: 5508, 1965: 4094, 1950: 3097}, u'Belize': {1970: 122, 1955: 77, 1975: 136, 1960: 92, 1980: 144, 1965: 107, 1950: 66}, u'Hong Kong': {1970: 3959, 1955: 2490, 1975: 4396, 1960: 3075, 1980: 5063, 1965: 3598, 1950: 2237}, u'Sierra Leone': {1970: 2789, 1955: 2233, 1975: 3030, 1960: 2396, 1980: 3335, 1965: 2582, 1950: 2087}, u'Georgia': {1970: 4694, 1955: 3827, 1975: 4898, 1960: 4147, 1980: 5046, 1965: 4465, 1950: 3516}, u'Gambia': {1970: 485, 1955: 306, 1975: 566, 1960: 352, 1980: 652, 1965: 412, 1950: 271}, u'Philippines': {1970: 38604, 1955: 24553, 1975: 44337, 1960: 28529, 1980: 50940, 1965: 33268, 1950: 21131}, u'Moldova': {1970: 3595, 1955: 2622, 1975: 3847, 1960: 2999, 1980: 3996, 1965: 3334, 1950: 2336}, u'Morocco': {1970: 15909, 1955: 10782, 1975: 17687, 1960: 12423, 1980: 19487, 1965: 14066, 1950: 9343}, u'Croatia': {1970: 4205, 1955: 3956, 1975: 4255, 1960: 4036, 1980: 4383, 1965: 4133, 1950: 4}, u'Mongolia': {1970: 1248, 1955: 844, 1975: 1446, 1960: 955, 1980: 1662, 1965: 1090, 1950: 779}, u'Guernsey': {1970: 53, 1955: 46, 1975: 54, 1960: 47, 1980: 53, 1965: 50, 1950: 45}, u'Thailand': {1970: 37091, 1955: 23451, 1975: 42272, 1960: 27513, 1980: 47026, 1965: 32062, 1950: 20042}, u'Namibia': {1970: 765, 1955: 522, 1975: 915, 1960: 591, 1980: 1058, 1965: 671, 1950: 464}, u'Grenada': {1970: 95, 1955: 85, 1975: 96, 1960: 90, 1980: 90, 1965: 93, 1950: 76}, u'Iraq': {1970: 9414, 1955: 5903, 1975: 11118, 1960: 6822, 1980: 13233, 1965: 7971, 1950: 5163}, u'Portugal': {1970: 9044, 1955: 8693, 1975: 9411, 1960: 9037, 1980: 9778, 1965: 9129, 1950: 8443}, u'Estonia': {1970: 1363, 1955: 1154, 1975: 1432, 1960: 1211, 1980: 1482, 1965: 1288, 1950: 1096}, u'Uruguay': {1970: 2824, 1955: 2353, 1975: 2844, 1960: 2531, 1980: 2930, 1965: 2693, 1950: 2194}, u'Mexico': {1970: 52775, 1955: 32930, 1975: 60678, 1960: 38579, 1980: 68347, 1965: 45142, 1950: 28485}, u'Lebanon': {1970: 2383, 1955: 1561, 1975: 2691, 1960: 1786, 1980: 2899, 1965: 2058, 1950: 1364}, u'Uzbekistan': {1970: 11940, 1955: 7232, 1975: 13988, 1960: 8531, 1980: 15994, 1965: 10206, 1950: 6293}, u'Tunisia': {1970: 5099, 1955: 3846, 1975: 5704, 1960: 4149, 1980: 6443, 1965: 4566, 1950: 3517}, u'Djibouti': {1970: 180, 1955: 90, 1975: 227, 1960: 111, 1980: 327, 1965: 142, 1950: 79}, u'Rwanda': {1970: 3769, 1955: 2698, 1975: 4357, 1960: 3032, 1980: 5140, 1965: 3265, 1950: 2439}, u'Antigua and Barbuda': {1970: 66, 1955: 51, 1975: 68, 1960: 55, 1980: 69, 1965: 59, 1950: 46}, u'Spain': {1970: 33876, 1955: 29319, 1975: 35564, 1960: 30641, 1980: 37488, 1965: 32085, 1950: 28063}, u'Colombia': {1970: 21430, 1955: 13588, 1975: 24125, 1960: 15953, 1980: 26631, 1965: 18646, 1950: 11592}, u'Burundi': {1970: 3522, 1955: 2576, 1975: 3676, 1960: 2815, 1980: 4298, 1965: 3171, 1950: 2363}, u'Taiwan': {1970: 14598, 1955: 9486, 1975: 16122, 1960: 11209, 1980: 17848, 1965: 12978, 1950: 7981}, u'Fiji': {1970: 521, 1955: 332, 1975: 576, 1960: 393, 1980: 635, 1965: 463, 1950: 287}, u'Barbados': {1970: 239, 1955: 227, 1975: 247, 1960: 232, 1980: 252, 1965: 235, 1950: 211}, u'Madagascar': {1970: 6766, 1955: 5003, 1975: 7604, 1960: 5482, 1980: 8691, 1965: 6070, 1950: 4620}, u'Italy': {1970: 53661, 1955: 48633, 1975: 55572, 1960: 50198, 1980: 56451, 1965: 51987, 1950: 47105}, u'Bhutan': {1970: 309, 1955: 186, 1975: 373, 1960: 212, 1980: 446, 1965: 254, 1950: 164}, u'Sudan': {1970: 13788, 1955: 9233, 1975: 16156, 1960: 10589, 1980: 19482, 1965: 12086, 1950: 8051}, u'Nepal': {1970: 11919, 1955: 9479, 1975: 13156, 1960: 10035, 1980: 14665, 1965: 10862, 1950: 8990}, u'Malta': {1970: 326, 1955: 314, 1975: 328, 1960: 329, 1980: 364, 1965: 319, 1950: 312}, u'Maldives': {1970: 115, 1955: 80, 1975: 133, 1960: 92, 1980: 153, 1965: 98, 1950: 79}, u'Suriname': {1970: 372, 1955: 240, 1975: 363, 1960: 284, 1980: 354, 1965: 336, 1950: 208}, u'S\\xe3o Tom\\xe9 and Pr\\xedncipe': {1970: 74, 1955: 60, 1975: 82, 1960: 63, 1980: 94, 1965: 69, 1950: 60}, u'Anguilla': {1970: 6, 1955: 5, 1975: 6, 1960: 6, 1980: 7, 1965: 6, 1950: 5}, u'Venezuela': {1970: 10758, 1955: 6170, 1975: 12675, 1960: 7556, 1980: 14768, 1965: 9068, 1950: 5009}, u'Israel': {1970: 2903, 1955: 1772, 1975: 3354, 1960: 2141, 1980: 3737, 1965: 2578, 1950: 1286}, u'Indonesia': {1970: 122292, 1955: 90255, 1975: 135272, 1960: 100146, 1980: 150467, 1965: 110754, 1950: 82978}, u'Iceland': {1970: 204, 1955: 158, 1975: 218, 1960: 176, 1980: 228, 1965: 192, 1950: 143}, u'Zambia': {1970: 4248, 1955: 2869, 1975: 4897, 1960: 3254, 1980: 5643, 1965: 3694, 1950: 2553}, u'Senegal': {1970: 4318, 1955: 2927, 1975: 4989, 1960: 3270, 1980: 5611, 1965: 3744, 1950: 2654}, u'Papua New Guinea': {1970: 2214, 1955: 1545, 1975: 2504, 1960: 1718, 1980: 2846, 1965: 1941, 1950: 1412}, u'Trinidad and Tobago': {1970: 955, 1955: 721, 1975: 1007, 1960: 841, 1980: 1091, 1965: 939, 1950: 632}, u'Zimbabwe': {1970: 5515, 1955: 3409, 1975: 6342, 1960: 4011, 1980: 7170, 1965: 4685, 1950: 2853}, u'Germany': {1970: 77783, 1955: 70196, 1975: 78682, 1960: 72481, 1980: 78298, 1965: 75639, 1950: 68375}, u'Vanuatu': {1970: 85, 1955: 59, 1975: 100, 1960: 66, 1980: 117, 1965: 74, 1950: 52}, u'Denmark': {1970: 4929, 1955: 4439, 1975: 5060, 1960: 4581, 1980: 5123, 1965: 4758, 1950: 4271}, u'Kazakhstan': {1970: 13106, 1955: 7977, 1975: 14157, 1960: 9982, 1980: 15000, 1965: 11902, 1950: 6693}, u'Poland': {1970: 32526, 1955: 27221, 1975: 33969, 1960: 29590, 1980: 35578, 1965: 31262, 1950: 24824}, u'Eritrea': {1970: 2160, 1955: 1499, 1975: 2421, 1960: 1615, 1980: 2569, 1965: 1746, 1950: 1403}, u'Ireland': {1970: 2950, 1955: 2916, 1975: 3177, 1960: 2832, 1980: 3401, 1965: 2876, 1950: 2963}, u'Saint Barth\\xe9lemy': {1970: 2, 1955: 2, 1975: 3, 1960: 2, 1980: 3, 1965: 2, 1950: 2}, u'Mayotte': {1970: 37, 1955: 24, 1975: 43, 1960: 28, 1980: 53, 1965: 32, 1950: 22}, u'Montserrat': {1970: 12, 1955: 13, 1975: 12, 1960: 12, 1980: 12, 1965: 12, 1950: 13}, u'New Caledonia': {1970: 112, 1955: 65, 1975: 133, 1960: 79, 1980: 139, 1965: 90, 1950: 55}, u'Macedonia': {1970: 1574, 1955: 1340, 1975: 1684, 1960: 1366, 1980: 1792, 1965: 1470, 1950: 1225}, u'North Korea': {1970: 14062, 1955: 8863, 1975: 16014, 1960: 10448, 1980: 17390, 1965: 11964, 1950: 9471}, u'Sri Lanka': {1970: 12619, 1955: 8694, 1975: 13779, 1960: 9913, 1980: 15056, 1965: 11261, 1950: 7533}, u'Latvia': {1970: 2361, 1955: 2002, 1975: 2462, 1960: 2115, 1980: 2525, 1965: 2254, 1950: 1936}, u'Guyana': {1970: 715, 1955: 491, 1975: 768, 1960: 571, 1980: 759, 1965: 640, 1950: 428}, u'Syria': {1970: 6258, 1955: 3938, 1975: 7407, 1960: 4533, 1980: 8752, 1965: 5326, 1950: 3495}, u'Sint Maarten': {1970: 6, 1955: 2, 1975: 10, 1960: 3, 1980: 12, 1965: 4, 1950: 2}, u'Honduras': {1970: 2761, 1955: 1662, 1975: 2858, 1960: 1952, 1980: 3402, 1965: 2329, 1950: 1431}, u'Myanmar': {1970: 27393, 1955: 21050, 1975: 30330, 1960: 22839, 1980: 33336, 1965: 24937, 1950: 19488}, u'Equatorial Guinea': {1970: 270, 1955: 226, 1975: 213, 1960: 244, 1980: 256, 1965: 253, 1950: 211}, u'Egypt': {1970: 33574, 1955: 23856, 1975: 36952, 1960: 26847, 1980: 42634, 1965: 30265, 1950: 21198}, u'Nicaragua': {1970: 2053, 1955: 1277, 1975: 2395, 1960: 1493, 1980: 2803, 1965: 1750, 1950: 1098}, u'Singapore': {1970: 2075, 1955: 1306, 1975: 2263, 1960: 1646, 1980: 2414, 1965: 1887, 1950: 1022}, u'Serbia': {1970: 7248, 1955: 6313, 1975: 7431, 1960: 6659, 1980: 7588, 1965: 6959, 1950: 5956}, u'Botswana': {1970: 584, 1955: 461, 1975: 705, 1960: 497, 1980: 900, 1965: 538, 1950: 430}, u'United Kingdom': {1970: 55632, 1955: 50946, 1975: 56215, 1960: 52372, 1980: 56314, 1965: 54350, 1950: 50127}, u'Greece': {1970: 8793, 1955: 7966, 1975: 9047, 1960: 8327, 1980: 9643, 1965: 8550, 1950: 7566}, u'Paraguay': {1970: 2477, 1955: 1683, 1975: 2848, 1960: 1910, 1980: 3172, 1965: 2170, 1950: 1476}, u'Cura\\xe7ao': {1970: 145, 1955: 112, 1975: 149, 1960: 124, 1980: 148, 1965: 134, 1950: 101}, u'Comoros': {1970: 237, 1955: 164, 1975: 276, 1960: 183, 1980: 340, 1965: 206, 1950: 148}})"
       ]
      },
      {
       "output_type": "stream",
       "stream": "stdout",
       "text": [
        "\n"
       ]
      }
     ],
     "prompt_number": 23
    },
    {
     "cell_type": "markdown",
     "metadata": {},
     "source": [
      "## Creating a dataframe from a dictionary"
     ]
    },
    {
     "cell_type": "code",
     "collapsed": false,
     "input": [
      "# create dataframe\n",
      "\n",
      "df = pd.DataFrame.from_dict(result, orient='index')\n",
      "# sort based on year\n",
      "df.sort(axis=1,inplace=True)\n",
      "print df\n"
     ],
     "language": "python",
     "metadata": {},
     "outputs": [
      {
       "output_type": "stream",
       "stream": "stdout",
       "text": [
        "<class 'pandas.core.frame.DataFrame'>\n",
        "Index: 227 entries, Afghanistan to Zimbabwe\n",
        "Data columns (total 7 columns):\n",
        "1950    227  non-null values\n",
        "1955    227  non-null values\n",
        "1960    227  non-null values\n",
        "1965    227  non-null values\n",
        "1970    227  non-null values\n",
        "1975    227  non-null values\n",
        "1980    227  non-null values\n",
        "dtypes: int64(7)\n"
       ]
      }
     ],
     "prompt_number": 24
    },
    {
     "cell_type": "markdown",
     "metadata": {},
     "source": [
      "## Some data accessing functions for a panda dataframe"
     ]
    },
    {
     "cell_type": "code",
     "collapsed": false,
     "input": [
      "subtable = df.iloc[0:2, 0:2]\n",
      "print \"subtable\"\n",
      "print subtable\n",
      "print \"\"\n",
      "\n",
      "column = df[1955]\n",
      "print \"column\"\n",
      "print column\n",
      "print \"\"\n",
      "\n",
      "row = df.ix[0] #row 0\n",
      "print \"row\"\n",
      "print row\n",
      "print \"\"\n",
      "\n",
      "rows = df.ix[:2] #rows 0,1\n",
      "print \"rows\"\n",
      "print rows\n",
      "print \"\"\n",
      "\n",
      "element = df.ix[0,1955] #element\n",
      "print \"element\"\n",
      "print element\n",
      "print \"\"\n",
      "\n",
      "# max along column\n",
      "print \"max\"\n",
      "print df[1950].max()\n",
      "print \"\"\n",
      "\n",
      "# axes\n",
      "print \"axes\"\n",
      "print df.axes\n",
      "print \"\"\n",
      "\n",
      "row = df.ix[0]\n",
      "print \"row info\"\n",
      "print row.name\n",
      "print row.index\n",
      "print \"\"\n",
      "\n",
      "countries =  df.index\n",
      "print \"countries\"\n",
      "print countries\n",
      "print \"\"\n",
      "\n",
      "print \"Austria\"\n",
      "print df.ix['Austria']"
     ],
     "language": "python",
     "metadata": {},
     "outputs": [
      {
       "output_type": "stream",
       "stream": "stdout",
       "text": [
        "subtable\n",
        "             1950  1955\n",
        "Afghanistan  8150  8891\n",
        "Albania      1227  1392\n",
        "\n",
        "column\n",
        "Afghanistan             8891\n",
        "Albania                 1392\n",
        "Algeria                 9842\n",
        "American Samoa            20\n",
        "Andorra                    6\n",
        "Angola                  4423\n",
        "Anguilla                   5\n",
        "Antigua and Barbuda       51\n",
        "Argentina              18928\n",
        "Armenia                 1565\n",
        "Aruba                     54\n",
        "Australia               9277\n",
        "Austria                 6947\n",
        "Azerbaijan              3314\n",
        "Bahamas                   87\n",
        "...\n",
        "United Arab Emirates                83\n",
        "United Kingdom                   50946\n",
        "United States                   165069\n",
        "United States Virgin Islands        28\n",
        "Uruguay                           2353\n",
        "Uzbekistan                        7232\n",
        "Vanuatu                             59\n",
        "Venezuela                         6170\n",
        "Vietnam                          27738\n",
        "Wallis and Futuna                    7\n",
        "West Bank                          788\n",
        "Western Sahara                      16\n",
        "Yemen                             5265\n",
        "Zambia                            2869\n",
        "Zimbabwe                          3409\n",
        "Name: 1955, Length: 227, dtype: int64\n",
        "\n",
        "row\n",
        "1950     8150\n",
        "1955     8891\n",
        "1960     9829\n",
        "1965    10998\n",
        "1970    12431\n",
        "1975    14132\n",
        "1980    15044\n",
        "Name: Afghanistan, dtype: int64\n",
        "\n",
        "rows\n",
        "             1950  1955  1960   1965   1970   1975   1980\n",
        "Afghanistan  8150  8891  9829  10998  12431  14132  15044\n",
        "Albania      1227  1392  1623   1884   2157   2401   2671"
       ]
      },
      {
       "output_type": "stream",
       "stream": "stdout",
       "text": [
        "\n",
        "\n",
        "element\n",
        "8891\n",
        "\n",
        "max\n",
        "562580\n",
        "\n",
        "axes\n",
        "[Index([Afghanistan, Albania, Algeria, American Samoa, Andorra, Angola, Anguilla, Antigua and Barbuda, Argentina, Armenia, Aruba, Australia, Austria, Azerbaijan, Bahamas, Bahrain, Bangladesh, Barbados, Belarus, Belgium, Belize, Benin, Bermuda, Bhutan, Bolivia, Bosnia and Herzegovina, Botswana, Brazil, British Virgin Islands, Brunei, Bulgaria, Burkina Faso, Burundi, Cambodia, Cameroon, Canada, Cape Verde, Cayman Islands, Central African Republic, Chad, Chile, China, Colombia, Comoros, Congo (Brazzaville), Congo (Kinshasa), Cook Islands, Costa Rica, Croatia, Cuba, Cura\u00e7ao, Cyprus, Czech Republic, Denmark, Djibouti, Dominica, Dominican Republic, Ecuador, Egypt, El Salvador, Equatorial Guinea, Eritrea, Estonia, Ethiopia, Faroe Islands, Federated States of Micronesia, Fiji, Finland, France, French Polynesia, Gabon, Gambia, Gaza Strip, Georgia, Germany, Ghana, Gibraltar, Greece, Greenland, Grenada, Guam, Guatemala, Guernsey, Guinea, Guinea-Bissau, Guyana, Haiti, Honduras, Hong Kong, Hungary, Iceland, India, Indonesia, Iran, Iraq, Ireland, Isle of Man, Israel, Italy, Ivory Coast, Jamaica, Japan, Jersey, Jordan, Kazakhstan, Kenya, Kiribati, Kuwait, Kyrgyzstan, Laos, Latvia, Lebanon, Lesotho, Liberia, Libya, Liechtenstein, Lithuania, Luxembourg, Macau, Macedonia, Madagascar, Malawi, Malaysia, Maldives, Mali, Malta, Marshall Islands, Mauritania, Mauritius, Mayotte, Mexico, Moldova, Monaco, Mongolia, Montenegro, Montserrat, Morocco, Mozambique, Myanmar, Namibia, Nauru, Nepal, Netherlands, New Caledonia, New Zealand, Nicaragua, Niger, Nigeria, North Korea, Northern Mariana Islands, Norway, Oman, Pakistan, Palau, Panama, Papua New Guinea, Paraguay, Peru, Philippines, Poland, Portugal, Puerto Rico, Qatar, Romania, Russia, Rwanda, Saint Barth\u00e9lemy, Saint Helena, Ascension and Tristan da Cunha, Saint Kitts and Nevis, Saint Lucia, Saint Martin, Saint Pierre and Miquelon, Saint Vincent and the Grenadines, Samoa, San Marino, Saudi Arabia, Senegal, Serbia, Seychelles, Sierra Leone, Singapore, Sint Maarten, Slovakia, Slovenia, Solomon Islands, Somalia, South Africa, South Korea, Spain, Sri Lanka, Sudan, Suriname, Swaziland, Sweden, Switzerland, Syria, S\u00e3o Tom\u00e9 and Pr\u00edncipe, Taiwan, Tajikistan, Tanzania, Thailand, Timor-Leste, Togo, Tonga, Trinidad and Tobago, Tunisia, Turkey, Turkmenistan, Turks and Caicos Islands, Tuvalu, Uganda, Ukraine, United Arab Emirates, United Kingdom, United States, United States Virgin Islands, Uruguay, Uzbekistan, Vanuatu, Venezuela, Vietnam, Wallis and Futuna, West Bank, Western Sahara, Yemen, Zambia, Zimbabwe], dtype=object), Int64Index([1950, 1955, 1960, 1965, 1970, 1975, 1980], dtype=int64)]\n",
        "\n",
        "row info\n",
        "Afghanistan\n",
        "Int64Index([1950, 1955, 1960, 1965, 1970, 1975, 1980], dtype=int64)\n",
        "\n",
        "countries\n",
        "Index([Afghanistan, Albania, Algeria, American Samoa, Andorra, Angola, Anguilla, Antigua and Barbuda, Argentina, Armenia, Aruba, Australia, Austria, Azerbaijan, Bahamas, Bahrain, Bangladesh, Barbados, Belarus, Belgium, Belize, Benin, Bermuda, Bhutan, Bolivia, Bosnia and Herzegovina, Botswana, Brazil, British Virgin Islands, Brunei, Bulgaria, Burkina Faso, Burundi, Cambodia, Cameroon, Canada, Cape Verde, Cayman Islands, Central African Republic, Chad, Chile, China, Colombia, Comoros, Congo (Brazzaville), Congo (Kinshasa), Cook Islands, Costa Rica, Croatia, Cuba, Cura\u00e7ao, Cyprus, Czech Republic, Denmark, Djibouti, Dominica, Dominican Republic, Ecuador, Egypt, El Salvador, Equatorial Guinea, Eritrea, Estonia, Ethiopia, Faroe Islands, Federated States of Micronesia, Fiji, Finland, France, French Polynesia, Gabon, Gambia, Gaza Strip, Georgia, Germany, Ghana, Gibraltar, Greece, Greenland, Grenada, Guam, Guatemala, Guernsey, Guinea, Guinea-Bissau, Guyana, Haiti, Honduras, Hong Kong, Hungary, Iceland, India, Indonesia, Iran, Iraq, Ireland, Isle of Man, Israel, Italy, Ivory Coast, Jamaica, Japan, Jersey, Jordan, Kazakhstan, Kenya, Kiribati, Kuwait, Kyrgyzstan, Laos, Latvia, Lebanon, Lesotho, Liberia, Libya, Liechtenstein, Lithuania, Luxembourg, Macau, Macedonia, Madagascar, Malawi, Malaysia, Maldives, Mali, Malta, Marshall Islands, Mauritania, Mauritius, Mayotte, Mexico, Moldova, Monaco, Mongolia, Montenegro, Montserrat, Morocco, Mozambique, Myanmar, Namibia, Nauru, Nepal, Netherlands, New Caledonia, New Zealand, Nicaragua, Niger, Nigeria, North Korea, Northern Mariana Islands, Norway, Oman, Pakistan, Palau, Panama, Papua New Guinea, Paraguay, Peru, Philippines, Poland, Portugal, Puerto Rico, Qatar, Romania, Russia, Rwanda, Saint Barth\u00e9lemy, Saint Helena, Ascension and Tristan da Cunha, Saint Kitts and Nevis, Saint Lucia, Saint Martin, Saint Pierre and Miquelon, Saint Vincent and the Grenadines, Samoa, San Marino, Saudi Arabia, Senegal, Serbia, Seychelles, Sierra Leone, Singapore, Sint Maarten, Slovakia, Slovenia, Solomon Islands, Somalia, South Africa, South Korea, Spain, Sri Lanka, Sudan, Suriname, Swaziland, Sweden, Switzerland, Syria, S\u00e3o Tom\u00e9 and Pr\u00edncipe, Taiwan, Tajikistan, Tanzania, Thailand, Timor-Leste, Togo, Tonga, Trinidad and Tobago, Tunisia, Turkey, Turkmenistan, Turks and Caicos Islands, Tuvalu, Uganda, Ukraine, United Arab Emirates, United Kingdom, United States, United States Virgin Islands, Uruguay, Uzbekistan, Vanuatu, Venezuela, Vietnam, Wallis and Futuna, West Bank, Western Sahara, Yemen, Zambia, Zimbabwe], dtype=object)\n",
        "\n",
        "Austria\n",
        "1950    6935\n",
        "1955    6947\n",
        "1960    7047\n",
        "1965    7271\n",
        "1970    7467\n",
        "1975    7579\n",
        "1980    7549\n",
        "Name: Austria, dtype: int64\n"
       ]
      }
     ],
     "prompt_number": 25
    },
    {
     "cell_type": "markdown",
     "metadata": {},
     "source": [
      "## Plotting population of 4 countries"
     ]
    },
    {
     "cell_type": "code",
     "collapsed": false,
     "input": [
      "plotCountries = ['Austria', 'Germany', 'United States', 'France']\n",
      "    \n",
      "for country in plotCountries:\n",
      "    row = df.ix[country]\n",
      "    plt.plot(row.index, row, label=row.name ) \n",
      "    \n",
      "plt.ylim(ymin=0) # start y axis at 0\n",
      "\n",
      "plt.xticks(rotation=70)\n",
      "plt.legend(loc='best')\n",
      "plt.xlabel(\"Year\")\n",
      "plt.ylabel(\"# people (million)\")\n",
      "plt.title(\"Population of countries\")"
     ],
     "language": "python",
     "metadata": {},
     "outputs": []
    },
    {
     "cell_type": "markdown",
     "metadata": {},
     "source": [
      "## Plot 5 most populous countries from 2010 and 2060"
     ]
    },
    {
     "cell_type": "code",
     "collapsed": false,
     "input": [
      "def plot_populous(df, year):\n",
      "    # sort table depending on data value in year column\n",
      "    df_by_year = df.sort(year, ascending=False)\n",
      "    \n",
      "    plt.figure()\n",
      "    for i in range(5):  \n",
      "        row = df_by_year.ix[i]\n",
      "        plt.plot(row.index, row, label=row.name ) \n",
      "            \n",
      "    plt.ylim(ymin=0)\n",
      "    \n",
      "    plt.xticks(rotation=70)\n",
      "    plt.legend(loc='best')\n",
      "    plt.xlabel(\"Year\")\n",
      "    plt.ylabel(\"# people (million)\")\n",
      "    plt.title(\"Most populous countries in %d\" % year)\n",
      "\n",
      "plot_populous(df, 2010)\n",
      "plot_populous(df, 2050)"
     ],
     "language": "python",
     "metadata": {},
     "outputs": []
    },
    {
     "cell_type": "code",
     "collapsed": false,
     "input": [
      "\n"
     ],
     "language": "python",
     "metadata": {},
     "outputs": []
    }
   ],
   "metadata": {}
  }
 ]
}